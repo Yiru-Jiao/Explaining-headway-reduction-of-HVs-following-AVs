{
 "cells": [
  {
   "cell_type": "markdown",
   "metadata": {},
   "source": [
    "# This notebook is used to check CF calibration performance"
   ]
  },
  {
   "cell_type": "code",
   "execution_count": null,
   "metadata": {},
   "outputs": [],
   "source": [
    "import os\n",
    "import matplotlib.pyplot as plt\n",
    "import numpy as np\n",
    "import pandas as pd\n",
    "import warnings\n",
    "warnings.filterwarnings('ignore')"
   ]
  },
  {
   "cell_type": "code",
   "execution_count": null,
   "metadata": {},
   "outputs": [],
   "source": [
    "def gipps_loss(cfdata, parameters):\n",
    "    position, speed, time = cfdata[['x_follower','v_follower','time']].values.T\n",
    "\n",
    "    if np.any(np.isnan(parameters)):\n",
    "        mae_v = np.nan\n",
    "    else:\n",
    "        v_0, s_0, tau, alpha, b, b_leader = parameters\n",
    "        theta = tau/2\n",
    "        id_tau = int(tau/0.1)\n",
    "        \n",
    "        spacing_hat = np.zeros_like(time) * np.nan\n",
    "        speed_hat = np.zeros_like(speed) * np.nan\n",
    "        speed_hat[:id_tau] = speed[:id_tau]\n",
    "        position_hat = np.zeros_like(position) * np.nan\n",
    "        position_hat[:id_tau] = position[:id_tau]\n",
    "        for t in np.arange(0,len(speed_hat)-id_tau,1):\n",
    "            spacing_hat[t] = cfdata['x_leader'].iloc[t] - position_hat[t]\n",
    "            v_acc = speed_hat[t] + 2.5*alpha*tau*(1-speed_hat[t]/v_0) * np.sqrt(0.025+speed_hat[t]/v_0)\n",
    "            v_dec = -(tau+theta)*b + np.sqrt((tau+theta)**2*b**2 + b*(2*(spacing_hat[t]-s_0)-tau*speed_hat[t]+(cfdata['v_leader'].iloc[t])**2/b_leader))\n",
    "            speed_hat[t+id_tau] = max(0., min(v_acc, v_dec))\n",
    "            position_hat[t+id_tau] = position_hat[t+id_tau-1] + (speed_hat[t+id_tau-1]+speed_hat[t+id_tau])/2 * (time[t+id_tau]-time[t+id_tau-1])\n",
    "            \n",
    "        speed_diff = abs(speed[id_tau:] - speed_hat[id_tau:])\n",
    "        speed_diff = speed_diff[speed_diff>=0.]\n",
    "        mae_v = speed_diff.mean()\n",
    "\n",
    "    return mae_v, time, speed, speed_hat, position, position_hat\n",
    "\n",
    "\n",
    "def idm_loss(cfdata,parameters):\n",
    "    position, speed, time = cfdata[['x_follower','v_follower','time']].values.T\n",
    "\n",
    "    if np.any(np.isnan(parameters)):\n",
    "        mae_v = np.nan\n",
    "    else:\n",
    "        v_0, s_0, T, alpha, beta = parameters\n",
    "        delta = 4.\n",
    "        \n",
    "        s_star = np.zeros_like(time) * np.nan\n",
    "        acc_hat = np.zeros_like(time) * np.nan\n",
    "        spacing_hat = np.zeros_like(time) * np.nan\n",
    "        speed_hat = np.zeros_like(speed) * np.nan\n",
    "        speed_hat[0] = speed[0]\n",
    "        position_hat = np.zeros_like(position) * np.nan\n",
    "        position_hat[0] = position[0]\n",
    "        for t in np.arange(0,len(speed_hat),3): # operational time interval is 0.3 second\n",
    "            s_star[t] = s_0 + max(0., speed_hat[t]*T + speed_hat[t]*(speed_hat[t]-cfdata['v_leader'].iloc[t])/2/np.sqrt(alpha*beta))\n",
    "            spacing_hat[t] = cfdata['x_leader'].iloc[t] - position_hat[t]\n",
    "            if speed_hat[t]<=0. and spacing_hat[t]<s_0:\n",
    "                acc_hat[t:t+3] = 0.\n",
    "            else:\n",
    "                acc_hat[t:t+3] = alpha * (1 - (speed_hat[t]/v_0)**delta - (s_star[t]/spacing_hat[t])**2)\n",
    "            speed_hat[t+1:t+4] = speed_hat[t] + acc_hat[t] * (time[t+1:t+4]-time[t])\n",
    "            speed_hat[speed_hat<0.] = 0.\n",
    "            position_hat[t+1:t+4] = position_hat[t] + (speed_hat[t]+speed_hat[t+1:t+4])/2 * (time[t+1:t+4]-time[t])\n",
    "\n",
    "            mae_v = abs(speed[1:] - speed_hat[1:]).mean()\n",
    "    return mae_v, time, speed, speed_hat, position, position_hat"
   ]
  },
  {
   "cell_type": "code",
   "execution_count": null,
   "metadata": {},
   "outputs": [],
   "source": [
    "parent_dir = '../../../'\n",
    "data_path = parent_dir + 'Data/OutputData/Variability/'\n",
    "\n",
    "cfpair = 'HA'\n",
    "data = pd.read_hdf(data_path+'cfdata_idm_Lyft_'+cfpair+'.h5', key='data')\n",
    "data = data.sort_values(['case_id','time']).set_index('case_id')\n",
    "\n",
    "data['dhw'] = data['x_leader'] - data['x_follower']\n",
    "data['thw'] = data['dhw']/data['v_follower']\n",
    "\n",
    "idm = pd.read_csv(data_path+'idm/parameters_idm_Lyft_'+cfpair+'.csv', index_col=0)\n",
    "gipps = pd.read_csv(data_path+'gipps/parameters_gipps_Lyft_'+cfpair+'.csv', index_col=0)"
   ]
  },
  {
   "cell_type": "code",
   "execution_count": null,
   "metadata": {},
   "outputs": [],
   "source": [
    "case_id = data.index.unique().values[2] # select a case_id\n",
    "cfdata = data.loc[case_id]\n",
    "cfdata['x_leader'] = cfdata['x_leader'] - cfdata['x_follower'].min() + 1.\n",
    "cfdata['x_follower'] = cfdata['x_follower'] - cfdata['x_follower'].min() + 1.\n",
    "idm_params = idm.loc[case_id].values\n",
    "gipps_params = gipps.loc[case_id].values"
   ]
  },
  {
   "cell_type": "code",
   "execution_count": null,
   "metadata": {},
   "outputs": [],
   "source": [
    "# IDM\n",
    "mae_v, time, speed, speed_hat, position, position_hat = idm_loss(cfdata, idm_params)\n",
    "fig, axes = plt.subplots(1,2,figsize=(8,3))\n",
    "axes[0].plot(time, cfdata['v_leader'], '--', label='Leader')\n",
    "axes[0].plot(time, speed, label='Observed')\n",
    "axes[0].scatter(time, speed_hat, label='Predicted', c='r', s=2)\n",
    "axes[0].set_xlabel('Time (s)')\n",
    "axes[0].set_title('Speed (m/s)')\n",
    "axes[0].legend()\n",
    "axes[1].plot(time, cfdata['x_leader'], '--', label='Leader')\n",
    "axes[1].plot(time, cfdata['x_follower'], label='Observed')\n",
    "axes[1].scatter(time, position_hat, label='Predicted', c='r', s=2)\n",
    "axes[1].set_xlabel('Time (s)')\n",
    "axes[1].set_title('Position (m)')\n",
    "axes[1].legend()\n",
    "print('mae_v:', mae_v)"
   ]
  },
  {
   "cell_type": "code",
   "execution_count": null,
   "metadata": {},
   "outputs": [],
   "source": [
    "# Gipps\n",
    "mae_v, time, speed, speed_hat, position, position_hat = gipps_loss(cfdata, gipps_params)\n",
    "fig, axes = plt.subplots(1,2,figsize=(8,2.5))\n",
    "axes[0].plot(time, cfdata['v_leader'], '--', label='Leader')\n",
    "axes[0].plot(time, speed, label='Observed')\n",
    "axes[0].scatter(time, speed_hat, label='Predicted', c='r', s=2)\n",
    "axes[0].set_xlabel('Time (s)')\n",
    "axes[0].set_title('Speed (m/s)')\n",
    "axes[0].legend()\n",
    "axes[1].plot(time, cfdata['x_leader'], '--', label='Leader')\n",
    "axes[1].plot(time, cfdata['x_follower'], label='Observed')\n",
    "axes[1].scatter(time, position_hat, label='Predicted', c='r', s=2)\n",
    "axes[1].set_xlabel('Time (s)')\n",
    "axes[1].set_title('Position (m)')\n",
    "axes[1].legend()\n",
    "print('mae_v:', mae_v)"
   ]
  },
  {
   "cell_type": "code",
   "execution_count": null,
   "metadata": {},
   "outputs": [],
   "source": []
  }
 ],
 "metadata": {
  "kernelspec": {
   "display_name": "cfav",
   "language": "python",
   "name": "python3"
  },
  "language_info": {
   "codemirror_mode": {
    "name": "ipython",
    "version": 3
   },
   "file_extension": ".py",
   "mimetype": "text/x-python",
   "name": "python",
   "nbconvert_exporter": "python",
   "pygments_lexer": "ipython3",
   "version": "3.8.18"
  }
 },
 "nbformat": 4,
 "nbformat_minor": 2
}
