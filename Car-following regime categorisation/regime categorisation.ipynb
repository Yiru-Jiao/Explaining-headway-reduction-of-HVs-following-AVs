{
 "cells": [
  {
   "cell_type": "markdown",
   "metadata": {},
   "source": [
    "# CF regime identification for Waymo and Lyft datasets"
   ]
  },
  {
   "cell_type": "code",
   "execution_count": 3,
   "metadata": {},
   "outputs": [],
   "source": [
    "import numpy as np\n",
    "import pandas as pd\n",
    "import utils_regime as rgm\n",
    "import matplotlib.pyplot as plt\n",
    "from scipy.optimize import minimize\n",
    "from tqdm import tqdm\n",
    "from joblib import Parallel, delayed\n",
    "\n",
    "data_path = 'localdata/InputData/'\n",
    "simuldata_path = 'localdata/OutputData/IDM/crossfollow/'\n",
    "output_path = 'localdata/OutputData/CF regime/'"
   ]
  },
  {
   "cell_type": "markdown",
   "metadata": {},
   "source": [
    "## Newell model calibration"
   ]
  },
  {
   "cell_type": "code",
   "execution_count": 4,
   "metadata": {},
   "outputs": [],
   "source": [
    "def Newell_loss(x, t, x_leader, x_follower):\n",
    "    tau, d, desired_v = x\n",
    "    id_tau = int(tau/0.1)\n",
    "    x_follower_modelled = np.zeros_like(x_follower)\n",
    "    x_follower_modelled[0:id_tau] = x_follower[0:id_tau]\n",
    "    for idx in range(0,len(t)-id_tau):\n",
    "        x_follower_modelled[idx+id_tau] = min(x_follower_modelled[idx]+desired_v*tau, x_leader[idx]-d)\n",
    "    squared_error = (x_follower_modelled[id_tau:] - x_follower[id_tau:])**2\n",
    "    \n",
    "    return squared_error.mean()"
   ]
  },
  {
   "cell_type": "markdown",
   "metadata": {},
   "source": [
    "### Waymo"
   ]
  },
  {
   "cell_type": "code",
   "execution_count": 4,
   "metadata": {},
   "outputs": [
    {
     "name": "stderr",
     "output_type": "stream",
     "text": [
      "  0%|          | 0/286 [00:00<?, ?it/s]"
     ]
    },
    {
     "name": "stderr",
     "output_type": "stream",
     "text": [
      "100%|██████████| 286/286 [00:02<00:00, 125.73it/s]\n",
      "100%|██████████| 1117/1117 [00:32<00:00, 34.42it/s]\n",
      "100%|██████████| 210/210 [00:02<00:00, 85.91it/s]\n"
     ]
    }
   ],
   "source": [
    "for cfpair in ['HA','HH','AH']:\n",
    "    data = pd.read_hdf(data_path+'Waymo/CFdata/'+cfpair+'.h5', key='data')\n",
    "    \n",
    "    case_ids = data.case_id.unique()\n",
    "    data = data.set_index('case_id')\n",
    "    def calibrate_newell(case_id):\n",
    "        t, x_leader, x_follower = data.loc[case_id][['time','x_leader','x_follower']].values.T\n",
    "        res = minimize(Newell_loss, x0=[1.5,5,15],\n",
    "                    args=(t, x_leader, x_follower),\n",
    "                    bounds=((0.1,5.),(2.5,50.),(0.,30.)),\n",
    "                    method='Nelder-Mead')\n",
    "        if res.success:\n",
    "            return res.x\n",
    "        else:\n",
    "            return np.zeros(3)*np.nan\n",
    "        \n",
    "    parameters = Parallel(n_jobs=4)(delayed(calibrate_newell)(case_id) for case_id in tqdm(case_ids))\n",
    "\n",
    "    parameters = pd.DataFrame(parameters, columns=['tau','d','desired_v'], index=case_ids)\n",
    "    parameters = parameters.dropna()\n",
    "    parameters.to_csv(output_path+'Waymo/newell/newell_'+cfpair+'.csv')"
   ]
  },
  {
   "cell_type": "markdown",
   "metadata": {},
   "source": [
    "### Lyft"
   ]
  },
  {
   "cell_type": "code",
   "execution_count": 3,
   "metadata": {},
   "outputs": [
    {
     "name": "stderr",
     "output_type": "stream",
     "text": [
      "100%|██████████| 26394/26394 [35:07<00:00, 12.52it/s]\n",
      "100%|██████████| 38683/38683 [57:52<00:00, 11.14it/s]  \n",
      "100%|██████████| 8263/8263 [04:59<00:00, 27.56it/s]\n"
     ]
    }
   ],
   "source": [
    "for cfpair in ['HA','HH','AH']:\n",
    "    data = pd.read_hdf(data_path+'Lyft/CFdata/'+cfpair+'_train.h5', key='data')\n",
    "\n",
    "    case_ids = data.case_id.unique()\n",
    "    data = data.set_index('case_id')\n",
    "    def calibrate_newell(case_id):\n",
    "        t, x_leader, x_follower = data.loc[case_id][['time','x_leader','x_follower']].values.T\n",
    "        res = minimize(Newell_loss, x0=[1.5,5,15],\n",
    "                    args=(t, x_leader, x_follower),\n",
    "                    bounds=((0.1,5.),(2.5,50.),(0.,30.)),\n",
    "                    method='Nelder-Mead')\n",
    "        if res.success:\n",
    "            return res.x\n",
    "        else:\n",
    "            return np.zeros(3)*np.nan\n",
    "        \n",
    "    parameters = Parallel(n_jobs=4)(delayed(calibrate_newell)(case_id) for case_id in tqdm(case_ids))\n",
    "\n",
    "    parameters = pd.DataFrame(parameters, columns=['tau','d','desired_v'], index=case_ids)\n",
    "    parameters = parameters.dropna()\n",
    "    parameters.to_csv(output_path+'Lyft/newell/newell_'+cfpair+'.csv')"
   ]
  },
  {
   "cell_type": "markdown",
   "metadata": {},
   "source": [
    "### Simulated Lyft"
   ]
  },
  {
   "cell_type": "code",
   "execution_count": 5,
   "metadata": {},
   "outputs": [
    {
     "name": "stderr",
     "output_type": "stream",
     "text": [
      "100%|██████████| 3618/3618 [03:39<00:00, 16.49it/s]\n",
      "100%|██████████| 3765/3765 [04:28<00:00, 14.01it/s]\n"
     ]
    }
   ],
   "source": [
    "def calibrate_newell(cfpair):\n",
    "    data = pd.read_hdf(simuldata_path+'crossfollow_Lyft_'+cfpair+'.h5', key='data')\n",
    "\n",
    "    case_ids = data.case_id.unique()\n",
    "    data = data.set_index('case_id')\n",
    "    def calibrate_newell(case_id):\n",
    "        t, x_leader, x_follower = data.loc[case_id][['time','x_leader','x_follower']].values.T\n",
    "        res = minimize(Newell_loss, x0=[1.5,5,15],\n",
    "                    args=(t, x_leader, x_follower),\n",
    "                    bounds=((0.1,5.),(2.5,50.),(0.,30.)),\n",
    "                    method='Nelder-Mead')\n",
    "        if res.success:\n",
    "            return res.x\n",
    "        else:\n",
    "            return np.zeros(3)*np.nan\n",
    "\n",
    "    parameters = Parallel(n_jobs=4)(delayed(calibrate_newell)(case_id) for case_id in tqdm(case_ids))\n",
    "\n",
    "    parameters = pd.DataFrame(parameters, columns=['tau','d','desired_v'], index=case_ids)\n",
    "    return parameters.dropna()\n",
    "\n",
    "# leader variation\n",
    "for count in tqdm(range(5)):\n",
    "    for cfpair in ['fHH_lHHhigherVar','fHH_lHHlowerVar']:\n",
    "        parameters = calibrate_newell(cfpair+'_'+str(count))\n",
    "        parameters.to_csv(output_path+'Simulated Lyft/newell/newell_'+cfpair+'_'+str(count)+'.csv')\n",
    "\n",
    "# follower variation\n",
    "for cfpair in ['fHHhigherVar_lHH','fHHlowerVar_lHH']:\n",
    "    parameters = calibrate_newell(cfpair)\n",
    "    parameters.to_csv(output_path+'Simulated Lyft/newell/newell_'+cfpair+'.csv')"
   ]
  },
  {
   "cell_type": "markdown",
   "metadata": {},
   "source": [
    "## Regime categorisation"
   ]
  },
  {
   "cell_type": "code",
   "execution_count": 6,
   "metadata": {},
   "outputs": [],
   "source": [
    "def read_tau(cfpair, dataset='Lyft'):\n",
    "    if dataset == 'Lyft':\n",
    "        newell = pd.read_csv(output_path+'Lyft/newell/newell_'+cfpair+'.csv', index_col=0)\n",
    "    elif dataset == 'Waymo':\n",
    "        newell = pd.read_csv(output_path+'Waymo/newell/newell_'+cfpair+'.csv', index_col=0)\n",
    "    elif dataset == 'Simulated Lyft':\n",
    "        newell = pd.read_csv(output_path+'Simulated Lyft/newell/newell_'+cfpair+'.csv', index_col=0)\n",
    "    tau_hat = newell['tau']\n",
    "    return tau_hat"
   ]
  },
  {
   "cell_type": "code",
   "execution_count": 4,
   "metadata": {},
   "outputs": [
    {
     "data": {
      "text/plain": [
       "<matplotlib.legend.Legend at 0x1d755f18640>"
      ]
     },
     "execution_count": 4,
     "metadata": {},
     "output_type": "execute_result"
    },
    {
     "data": {
      "image/png": "[encoded data removed]",
      "text/plain": [
       "<Figure size 800x240 with 2 Axes>"
      ]
     },
     "metadata": {},
     "output_type": "display_data"
    }
   ],
   "source": [
    "fig, axes = plt.subplots(1,2,figsize=(8,2.4),constrained_layout=True,sharey=True)\n",
    "\n",
    "for ax, dataset in zip(axes, ['Lyft','Waymo']):\n",
    "    tau_hat_HA = read_tau('HA', dataset)\n",
    "    tau_hat_HH = read_tau('HH', dataset)\n",
    "    tau_hat_AH = read_tau('AH', dataset)\n",
    "    _ = ax.hist(tau_hat_HA, bins=np.arange(0,4.1,0.1), alpha=0.3, density=True, label='HA')\n",
    "    _ = ax.hist(tau_hat_HH, bins=np.arange(0,4.1,0.1), alpha=0.3, density=True, label='HH')\n",
    "    _ = ax.hist(tau_hat_AH, bins=np.arange(0,4.1,0.1), alpha=0.3, density=True, label='AH')\n",
    "    ax.text(1.65, 2.5, 'HA: mean='+str(round(tau_hat_HA.mean(),2)) +\n",
    "                      ', sigma='+str(round(tau_hat_HA.std(),2)) + '\\n' +\n",
    "                      'HH: mean='+str(round(tau_hat_HH.mean(),2)) +\n",
    "                      ', sigma='+str(round(tau_hat_HH.std(),2)) + '\\n' +\n",
    "                      'AH: mean='+str(round(tau_hat_AH.mean(),2)) +\n",
    "                      ', sigma='+str(round(tau_hat_AH.std(),2)))\n",
    "    ax.set_xlim([-0.1,4.1])\n",
    "    ax.set_xlabel('Calibrated time gap (s)')\n",
    "    ax.set_title(dataset)\n",
    "\n",
    "axes[0].set_ylabel('Density')\n",
    "axes[0].legend(loc='upper left')"
   ]
  },
  {
   "cell_type": "code",
   "execution_count": 7,
   "metadata": {},
   "outputs": [
    {
     "data": {
      "text/plain": [
       "<matplotlib.legend.Legend at 0x1a769e8a760>"
      ]
     },
     "execution_count": 7,
     "metadata": {},
     "output_type": "execute_result"
    },
    {
     "data": {
      "image/png": "[encoded data removed]",
      "text/plain": [
       "<Figure size 800x240 with 2 Axes>"
      ]
     },
     "metadata": {},
     "output_type": "display_data"
    }
   ],
   "source": [
    "fig, axes = plt.subplots(1,2,figsize=(8,2.4),constrained_layout=True,sharey=True)\n",
    "\n",
    "for ax, dataset in zip(axes, ['Leader variability','Follower variability']):\n",
    "    if dataset=='Leader variability':\n",
    "        count = 4\n",
    "        tau_hat_HA = read_tau('fHH_lHHlowerVar'+'_'+str(count), dataset='Simulated Lyft')\n",
    "        tau_hat_HH = read_tau('fHH_lHHhigherVar'+'_'+str(count), dataset='Simulated Lyft')\n",
    "    elif dataset=='Follower variability':\n",
    "        tau_hat_HA = read_tau('fHHlowerVar_lHH', dataset='Simulated Lyft')\n",
    "        tau_hat_HH = read_tau('fHHhigherVar_lHH', dataset='Simulated Lyft')\n",
    "        \n",
    "    _ = ax.hist(tau_hat_HA, bins=np.arange(0,4.1,0.1), alpha=0.3, density=True, label='HA')\n",
    "    _ = ax.hist(tau_hat_HH, bins=np.arange(0,4.1,0.1), alpha=0.3, density=True, label='HH')\n",
    "    ax.text(1.65, 1.5, 'HA: mean='+str(round(tau_hat_HA.mean(),2)) +\n",
    "                      ', sigma='+str(round(tau_hat_HA.std(),2)) + '\\n' +\n",
    "                      'HH: mean='+str(round(tau_hat_HH.mean(),2)) +\n",
    "                      ', sigma='+str(round(tau_hat_HH.std(),2)))\n",
    "    ax.set_xlim([-0.1,4.1])\n",
    "    ax.set_xlabel('Calibrated time gap (s)')\n",
    "    ax.set_title(dataset)\n",
    "\n",
    "axes[0].set_ylabel('Density')\n",
    "axes[0].legend(loc='upper left')"
   ]
  },
  {
   "cell_type": "markdown",
   "metadata": {},
   "source": [
    "### Waymo"
   ]
  },
  {
   "cell_type": "code",
   "execution_count": 6,
   "metadata": {},
   "outputs": [
    {
     "name": "stdout",
     "output_type": "stream",
     "text": [
      "AH: miu limit = 2.61, sigma limit = 0.48\n"
     ]
    },
    {
     "name": "stderr",
     "output_type": "stream",
     "text": [
      "100%|██████████| 210/210 [00:44<00:00,  4.70it/s]\n"
     ]
    },
    {
     "name": "stdout",
     "output_type": "stream",
     "text": [
      "HA: miu limit = 2.58, sigma limit = 0.49\n"
     ]
    },
    {
     "name": "stderr",
     "output_type": "stream",
     "text": [
      "100%|██████████| 286/286 [00:38<00:00,  7.49it/s]\n"
     ]
    },
    {
     "name": "stdout",
     "output_type": "stream",
     "text": [
      "HH: miu limit = 2.37, sigma limit = 0.44\n"
     ]
    },
    {
     "name": "stderr",
     "output_type": "stream",
     "text": [
      "100%|██████████| 1117/1117 [04:11<00:00,  4.44it/s]\n"
     ]
    }
   ],
   "source": [
    "for cfpair in ['AH','HA','HH']:\n",
    "    data = pd.read_hdf(data_path+'Waymo/CFdata/'+cfpair+'.h5', key='data')\n",
    "    case_ids = data.case_id.unique()\n",
    "    data = data.set_index('case_id')\n",
    "\n",
    "    tau_hat = read_tau(cfpair, dataset='Waymo')\n",
    "    miu_limit, sigma_limit = tau_hat.mean() + 2*tau_hat.std(), tau_hat.std() # for NGSIM, miu_limit = 5s, sigma_limit = 1.5s\n",
    "    print(cfpair + ': miu limit = '+ str(round(miu_limit,2)) + ', sigma limit = ' + str(round(sigma_limit,2)))\n",
    "    \n",
    "    def identify_regime(case_id):\n",
    "        t, x_leader, x_follower, v_leader, v_follower = data.loc[case_id][['time','x_leader','x_follower','v_leader','v_follower']].values.T\n",
    "        regimes = rgm.time_regime(t, x_leader, x_follower, v_leader, v_follower, miu_limit, sigma_limit)\n",
    "        regimes = pd.DataFrame({'regime':regimes, 'time':t}, index=data.loc[case_id].index)\n",
    "        return regimes\n",
    "\n",
    "    regimes_all = Parallel(n_jobs=4)(delayed(identify_regime)(case_id) for case_id in tqdm(case_ids))\n",
    "    regimes_all = pd.concat(regimes_all).reset_index()\n",
    "    regimes_all.to_hdf(output_path+'Waymo/regimes/regimes_all_'+cfpair+'.h5', key='regimes')\n",
    "\n",
    "    regimes_list = (regimes_all.groupby(['case_id','regime']).time.count()/10).unstack().fillna(0)\n",
    "    regimes_list = regimes_list[['Fa', 'C', 'A', 'D', 'F', 'S', 'Fd']]\n",
    "    regimes_list['regime_comb'] = regimes_list.apply(lambda x: ''.join([str(i) for i in x[x>0].index]), axis=1)\n",
    "    regimes_list.to_csv(output_path+'Waymo/regimes/regimes_list_'+cfpair+'.csv')"
   ]
  },
  {
   "cell_type": "markdown",
   "metadata": {},
   "source": [
    "### Lyft"
   ]
  },
  {
   "cell_type": "code",
   "execution_count": 5,
   "metadata": {},
   "outputs": [
    {
     "name": "stdout",
     "output_type": "stream",
     "text": [
      "AH: miu limit = 2.17, sigma limit = 0.23\n"
     ]
    },
    {
     "name": "stderr",
     "output_type": "stream",
     "text": [
      "100%|██████████| 909/909 [03:24<00:00,  4.45it/s]\n"
     ]
    },
    {
     "name": "stdout",
     "output_type": "stream",
     "text": [
      "AH: miu limit = 2.17, sigma limit = 0.23\n"
     ]
    },
    {
     "name": "stderr",
     "output_type": "stream",
     "text": [
      "100%|██████████| 8263/8263 [33:59<00:00,  4.05it/s]  \n"
     ]
    },
    {
     "name": "stdout",
     "output_type": "stream",
     "text": [
      "HA: miu limit = 1.98, sigma limit = 0.34\n"
     ]
    },
    {
     "name": "stderr",
     "output_type": "stream",
     "text": [
      "100%|██████████| 3055/3055 [18:03<00:00,  2.82it/s]\n"
     ]
    },
    {
     "name": "stdout",
     "output_type": "stream",
     "text": [
      "HA: miu limit = 1.98, sigma limit = 0.34\n"
     ]
    },
    {
     "name": "stderr",
     "output_type": "stream",
     "text": [
      "100%|██████████| 26394/26394 [2:36:22<00:00,  2.81it/s]  \n"
     ]
    },
    {
     "name": "stdout",
     "output_type": "stream",
     "text": [
      "HH: miu limit = 2.22, sigma limit = 0.37\n"
     ]
    },
    {
     "name": "stderr",
     "output_type": "stream",
     "text": [
      "100%|██████████| 4209/4209 [10:18<00:00,  6.80it/s]\n"
     ]
    },
    {
     "name": "stdout",
     "output_type": "stream",
     "text": [
      "HH: miu limit = 2.22, sigma limit = 0.37\n"
     ]
    },
    {
     "name": "stderr",
     "output_type": "stream",
     "text": [
      "100%|██████████| 38683/38683 [2:11:59<00:00,  4.88it/s]  \n"
     ]
    }
   ],
   "source": [
    "for cfpair in ['AH','HA','HH']:\n",
    "    for dataset in ['val','train']:\n",
    "        data = pd.read_hdf(data_path+'Lyft/CFdata/'+cfpair+'_'+dataset+'.h5', key='data')\n",
    "        case_ids = data.case_id.unique()\n",
    "        data = data.set_index('case_id')\n",
    "\n",
    "        tau_hat = read_tau(cfpair, 'Lyft')\n",
    "        miu_limit, sigma_limit = tau_hat.mean() + 2*tau_hat.std(), tau_hat.std() # for NGSIM, miu_limit = 5s, sigma_limit = 1.5s\n",
    "        print(cfpair + ': miu limit = '+ str(round(miu_limit,2)) + ', sigma limit = ' + str(round(sigma_limit,2)))\n",
    "        \n",
    "        def identify_regime(case_id):\n",
    "            t, x_leader, x_follower, v_leader, v_follower = data.loc[case_id][['time','x_leader','x_follower','v_leader','v_follower']].values.T\n",
    "            regimes = rgm.time_regime(t, x_leader, x_follower, v_leader, v_follower, miu_limit, sigma_limit)\n",
    "            regimes = pd.DataFrame({'regime':regimes, 'time':t}, index=data.loc[case_id].index)\n",
    "            return regimes\n",
    "\n",
    "        regimes_all = Parallel(n_jobs=4)(delayed(identify_regime)(case_id) for case_id in tqdm(case_ids))\n",
    "        regimes_all = pd.concat(regimes_all).reset_index()\n",
    "        regimes_all.to_hdf(output_path+'Lyft/regimes/regimes_all_'+cfpair+'_'+dataset+'.h5', key='regimes')\n",
    "\n",
    "        regimes_list = (regimes_all.groupby(['case_id','regime']).time.count()/10).unstack().fillna(0)\n",
    "        regimes_list = regimes_list[['Fa', 'C', 'A', 'D', 'F', 'S', 'Fd']]\n",
    "        regimes_list['regime_comb'] = regimes_list.apply(lambda x: ''.join([str(i) for i in x[x>0].index]), axis=1)\n",
    "        regimes_list.to_csv(output_path+'Lyft/regimes/regimes_list_'+cfpair+'_'+dataset+'.csv')\n",
    "    \n",
    "    regimes_all_train = pd.read_hdf(output_path+'Lyft/regimes/regimes_all_'+cfpair+'_train.h5', key='regimes')\n",
    "    regimes_all_val = pd.read_hdf(output_path+'Lyft/regimes/regimes_all_'+cfpair+'_val.h5', key='regimes')\n",
    "    regimes_all_train['case_id'] = (regimes_all_train['case_id'] + 1e5 ).astype(int)\n",
    "    regimes_all_val['case_id'] = (regimes_all_val['case_id'] + 3e5 ).astype(int)\n",
    "    regimes_all = pd.concat([regimes_all_train, regimes_all_val], ignore_index=True)\n",
    "    regimes_all.to_hdf(output_path+'Lyft/regimes/regimes_all_'+cfpair+'.h5', key='regimes')\n",
    "\n",
    "    regimes_list_train = pd.read_csv(output_path+'Lyft/regimes/regimes_list_'+cfpair+'_train.csv')\n",
    "    regimes_list_val = pd.read_csv(output_path+'Lyft/regimes/regimes_list_'+cfpair+'_val.csv')\n",
    "    regimes_list_train['case_id'] = (regimes_list_train['case_id'] + 1e5 ).astype(int)\n",
    "    regimes_list_val['case_id'] = (regimes_list_val['case_id'] + 3e5 ).astype(int)\n",
    "    regimes_list = pd.concat([regimes_list_train, regimes_list_val], ignore_index=True)\n",
    "    regimes_list.to_csv(output_path+'Lyft/regimes/regimes_list_'+cfpair+'.csv', index=False)"
   ]
  },
  {
   "cell_type": "markdown",
   "metadata": {},
   "source": [
    "### Simulated Lyft"
   ]
  },
  {
   "cell_type": "code",
   "execution_count": 8,
   "metadata": {},
   "outputs": [
    {
     "name": "stdout",
     "output_type": "stream",
     "text": [
      "fHHhigherVar_lHH: miu limit = 2.31, sigma limit = 0.32\n"
     ]
    },
    {
     "name": "stderr",
     "output_type": "stream",
     "text": [
      "100%|██████████| 3618/3618 [11:29<00:00,  5.25it/s]\n"
     ]
    },
    {
     "name": "stdout",
     "output_type": "stream",
     "text": [
      "3618\n",
      "fHHlowerVar_lHH: miu limit = 2.32, sigma limit = 0.33\n"
     ]
    },
    {
     "name": "stderr",
     "output_type": "stream",
     "text": [
      "100%|██████████| 3765/3765 [14:03<00:00,  4.47it/s]\n"
     ]
    },
    {
     "name": "stdout",
     "output_type": "stream",
     "text": [
      "3765\n"
     ]
    }
   ],
   "source": [
    "def determine_regime(cfpair):\n",
    "    data = pd.read_hdf(simuldata_path+'crossfollow_Lyft_'+cfpair+'.h5', key='data')\n",
    "    case_ids = data.case_id.unique()\n",
    "    data = data.set_index('case_id')\n",
    "\n",
    "    tau_hat = read_tau(cfpair, dataset='Simulated Lyft')\n",
    "    miu_limit, sigma_limit = tau_hat.mean() + 2*tau_hat.std(), tau_hat.std() # for NGSIM, miu_limit = 5s, sigma_limit = 1.5s\n",
    "    print(cfpair + ': miu limit = '+ str(round(miu_limit,2)) + ', sigma limit = ' + str(round(sigma_limit,2)))\n",
    "    \n",
    "    def identify_regime(case_id):\n",
    "        t, x_leader, x_follower, v_leader, v_follower = data.loc[case_id][['time','x_leader','x_follower','v_leader','v_follower']].values.T\n",
    "        regimes = rgm.time_regime(t, x_leader, x_follower, v_leader, v_follower, miu_limit, sigma_limit)\n",
    "        regimes = pd.DataFrame({'regime':regimes, 'time':t}, index=data.loc[case_id].index)\n",
    "        return regimes\n",
    "\n",
    "    regimes_all = Parallel(n_jobs=4)(delayed(identify_regime)(case_id) for case_id in tqdm(case_ids))\n",
    "    regimes_all = pd.concat(regimes_all).reset_index()\n",
    "    regimes_all.to_hdf(output_path+'Simulated Lyft/regimes/regimes_all_'+cfpair+'.h5', key='regimes')\n",
    "\n",
    "    regimes_list = (regimes_all.groupby(['case_id','regime']).time.count()/10).unstack().fillna(0)\n",
    "    try:\n",
    "        print(len(regimes_list['Fd']))\n",
    "    except:\n",
    "        regimes_list = regimes_list.copy()\n",
    "        regimes_list['Fd'] = 0.0\n",
    "    regimes_list = regimes_list[['Fa', 'C', 'A', 'D', 'F', 'S', 'Fd']]\n",
    "    regimes_list['regime_comb'] = regimes_list.apply(lambda x: ''.join([str(i) for i in x[x>0].index]), axis=1)\n",
    "    regimes_list.to_csv(output_path+'Simulated Lyft/regimes/regimes_list_'+cfpair+'.csv')\n",
    "\n",
    "# leader variation\n",
    "for count in range(2,5):\n",
    "    for cfpair in ['fHH_lHHhigherVar','fHH_lHHlowerVar']:\n",
    "        determine_regime(cfpair+'_'+str(count))\n",
    "\n",
    "# follower variation\n",
    "for cfpair in ['fHHhigherVar_lHH','fHHlowerVar_lHH']:\n",
    "    determine_regime(cfpair)"
   ]
  },
  {
   "cell_type": "code",
   "execution_count": null,
   "metadata": {},
   "outputs": [],
   "source": []
  }
 ],
 "metadata": {
  "kernelspec": {
   "display_name": "base",
   "language": "python",
   "name": "python3"
  },
  "language_info": {
   "codemirror_mode": {
    "name": "ipython",
    "version": 3
   },
   "file_extension": ".py",
   "mimetype": "text/x-python",
   "name": "python",
   "nbconvert_exporter": "python",
   "pygments_lexer": "ipython3",
   "version": "3.8.18"
  },
  "orig_nbformat": 4
 },
 "nbformat": 4,
 "nbformat_minor": 2
}
